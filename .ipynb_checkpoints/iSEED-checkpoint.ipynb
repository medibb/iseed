{
 "cells": [
  {
   "cell_type": "code",
   "execution_count": 2,
   "id": "83a8fc23-6e5a-46bf-9a7e-32011e62334c",
   "metadata": {},
   "outputs": [
    {
     "name": "stdout",
     "output_type": "stream",
     "text": [
      "Hello World!\n"
     ]
    }
   ],
   "source": [
    "print('Hello World!')"
   ]
  },
  {
   "cell_type": "code",
   "execution_count": 7,
   "id": "0f7137d0-942e-430b-ad01-eb1e442fa3a8",
   "metadata": {},
   "outputs": [
    {
     "name": "stdout",
     "output_type": "stream",
     "text": [
      "100\n",
      "100+100\n",
      "200\n",
      "100\n",
      "100 200\n"
     ]
    }
   ],
   "source": [
    "print(\"%d\" % 100)\n",
    "print(\"100+100\")\n",
    "print(\"%d\" % (100+100))\n",
    "print(\"%d\" % (100))\n",
    "print(\"%d %d\" % (100, 200))"
   ]
  },
  {
   "cell_type": "code",
   "execution_count": 2,
   "id": "79b98971-121e-407e-aa4c-6f296f905eb6",
   "metadata": {},
   "outputs": [
    {
     "data": {
      "text/plain": [
       "'C:\\\\Dev\\\\Pyproject\\\\iseed'"
      ]
     },
     "execution_count": 2,
     "metadata": {},
     "output_type": "execute_result"
    }
   ],
   "source": [
    "import os\n",
    "os.getcwd()"
   ]
  }
 ],
 "metadata": {
  "kernelspec": {
   "display_name": "iseed",
   "language": "python",
   "name": "iseed"
  },
  "language_info": {
   "codemirror_mode": {
    "name": "ipython",
    "version": 3
   },
   "file_extension": ".py",
   "mimetype": "text/x-python",
   "name": "python",
   "nbconvert_exporter": "python",
   "pygments_lexer": "ipython3",
   "version": "3.9.16"
  }
 },
 "nbformat": 4,
 "nbformat_minor": 5
}
