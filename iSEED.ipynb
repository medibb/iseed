{
 "cells": [
  {
   "cell_type": "code",
   "execution_count": 2,
   "id": "83a8fc23-6e5a-46bf-9a7e-32011e62334c",
   "metadata": {},
   "outputs": [
    {
     "name": "stdout",
     "output_type": "stream",
     "text": [
      "Hello World!\n"
     ]
    }
   ],
   "source": [
    "print('Hello World!')"
   ]
  },
  {
   "cell_type": "code",
   "execution_count": 7,
   "id": "0f7137d0-942e-430b-ad01-eb1e442fa3a8",
   "metadata": {},
   "outputs": [
    {
     "name": "stdout",
     "output_type": "stream",
     "text": [
      "100\n",
      "100+100\n",
      "200\n",
      "100\n",
      "100 200\n"
     ]
    }
   ],
   "source": [
    "print(\"%d\" % 100)\n",
    "print(\"100+100\")\n",
    "print(\"%d\" % (100+100))\n",
    "print(\"%d\" % (100))\n",
    "print(\"%d %d\" % (100, 200))"
   ]
  },
  {
   "cell_type": "code",
   "execution_count": 15,
   "id": "b49be0e1-aaa0-4a52-ae48-b10a65a0f1e6",
   "metadata": {},
   "outputs": [
    {
     "name": "stdout",
     "output_type": "stream",
     "text": [
      "123\n",
      "  123\n",
      "00123\n",
      "123.450000\n",
      "  123.5\n",
      "123.450\n",
      "Python\n",
      "    Python\n"
     ]
    }
   ],
   "source": [
    "print(\"%d\" % 123)\n",
    "print(\"%5d\" % 123)\n",
    "print(\"%05d\" % 123)\n",
    "\n",
    "print(\"%f\" % 123.45)\n",
    "print(\"%7.1f\" % 123.45)\n",
    "print(\"%7.3f\" % 123.45)\n",
    "\n",
    "print(\"%s\" % \"Python\")\n",
    "print(\"%10s\" % \"Python\")"
   ]
  },
  {
   "cell_type": "code",
   "execution_count": 17,
   "id": "0a74f2a8-a26e-457e-84ad-7fe994f68179",
   "metadata": {},
   "outputs": [
    {
     "name": "stdout",
     "output_type": "stream",
     "text": [
      "123   123 00123\n",
      "123   123 00123\n"
     ]
    }
   ],
   "source": [
    "print(\"%d %5d %05d\" % (123, 123, 123))\n",
    "print(\"{0:d} {1:5d} {2:05d}\".format(123,123,123))"
   ]
  },
  {
   "cell_type": "code",
   "execution_count": 27,
   "id": "7c918b1f-7355-4905-b41a-7a548d3a5f1b",
   "metadata": {},
   "outputs": [
    {
     "name": "stdout",
     "output_type": "stream",
     "text": [
      "\n",
      " line break \n",
      " exercise\n",
      "\t tap key \t exercise\n",
      "back exercise\n",
      "Highlight \"word\" effect1\n",
      "Highlight 'word' effect1\n",
      "\\n \\t \\\" \\\\를 그대로 출력\n"
     ]
    }
   ],
   "source": [
    "print(\"\\n line break \\n exercise\")\n",
    "print(\"\\t tap key \\t exercise\")\n",
    "print(\"back \\b exercise\")\n",
    "print(\"Highlight \\\"word\\\" effect1\")\n",
    "print(\"Highlight \\'word\\' effect1\")\n",
    "print(r\"\\n \\t \\\" \\\\를 그대로 출력\")"
   ]
  },
  {
   "cell_type": "code",
   "execution_count": 30,
   "id": "4f1c3623-b2b6-4a44-8eda-6f4fea18a9e6",
   "metadata": {},
   "outputs": [
    {
     "data": {
      "text/plain": [
       "complex"
      ]
     },
     "execution_count": 30,
     "metadata": {},
     "output_type": "execute_result"
    }
   ],
   "source": [
    "cVar = 1 + 2j\n",
    "type(cVar)"
   ]
  },
  {
   "cell_type": "code",
   "execution_count": 41,
   "id": "e90c4494-59d4-4751-92b8-03f90e27a6cc",
   "metadata": {},
   "outputs": [
    {
     "data": {
      "text/plain": [
       "float"
      ]
     },
     "execution_count": 41,
     "metadata": {},
     "output_type": "execute_result"
    }
   ],
   "source": [
    "var1 = var2 = var3 = var4 = 100\n",
    "intVar = 10\n",
    "type(intVar)\n",
    "intVar = 10.0\n",
    "type(intVar)"
   ]
  },
  {
   "cell_type": "code",
   "execution_count": 44,
   "id": "90c7c667-3a66-4af0-90ed-6874529de32c",
   "metadata": {},
   "outputs": [
    {
     "name": "stdin",
     "output_type": "stream",
     "text": [
      "Insert the number of Attendances: 25\n"
     ]
    },
    {
     "name": "stdout",
     "output_type": "stream",
     "text": [
      "치킨의 수: 25 마리\n",
      "맥주의 수: 50 캔\n",
      "케익의 수: 100 조각\n"
     ]
    }
   ],
   "source": [
    "number = int( input(\"Insert the number of Attendances:\"))\n",
    "chickens = number\n",
    "beers = number*2\n",
    "cakes = number*4\n",
    "print(\"치킨의 수:\", chickens, \"마리\")\n",
    "print(\"맥주의 수:\", beers, \"캔\")\n",
    "print(\"케익의 수:\", cakes, \"조각\")"
   ]
  },
  {
   "cell_type": "code",
   "execution_count": 45,
   "id": "a700ba72-deeb-466c-91ba-30914fa281bd",
   "metadata": {},
   "outputs": [
    {
     "data": {
      "text/plain": [
       "'\\nthere is another way to make comments\\nthis way is useful for long comments\\n'"
      ]
     },
     "execution_count": 45,
     "metadata": {},
     "output_type": "execute_result"
    }
   ],
   "source": [
    "\"\"\"\n",
    "there is another way to make comments\n",
    "this way is useful for long comments\n",
    "\"\"\""
   ]
  },
  {
   "cell_type": "code",
   "execution_count": 51,
   "id": "2373a134-0f69-46a9-b96b-a49bd7142f8c",
   "metadata": {},
   "outputs": [
    {
     "name": "stdout",
     "output_type": "stream",
     "text": [
      "15\n",
      "10\n",
      "50\n",
      "10.0\n",
      "2.0\n",
      "2.0\n",
      "32.0\n"
     ]
    }
   ],
   "source": [
    "a = 10\n",
    "a += 5; print(a)\n",
    "a -= 5; print(a)\n",
    "a *= 5; print(a)\n",
    "a /= 5; print(a)\n",
    "a //= 5; print(a)\n",
    "a %= 5; print(a)\n",
    "a **= 5; print(a)"
   ]
  },
  {
   "cell_type": "code",
   "execution_count": 52,
   "id": "b3363cb0-3f8b-4b58-a210-bf9374fd428b",
   "metadata": {},
   "outputs": [
    {
     "name": "stdin",
     "output_type": "stream",
     "text": [
      "교환할 돈은 얼마?: 3451\n"
     ]
    },
    {
     "name": "stdout",
     "output_type": "stream",
     "text": [
      "\n",
      " 500원짜리 6개\n",
      "\n",
      " 100원짜리 4개\n",
      "\n",
      " 50원짜리 1개\n",
      "\n",
      " 10원짜리 0개\n",
      "\n",
      " 거스름돈 1원\n"
     ]
    }
   ],
   "source": [
    "## 변수 선언 부분 ##\n",
    "money, c500, c100, c50, c10 = 0, 0, 0, 0, 0\n",
    "\n",
    "## 메인 코드 부분 ##\n",
    "money = int(input(\"교환할 돈은 얼마?:\"))\n",
    "\n",
    "c500 = money // 500\n",
    "money %= 500\n",
    "\n",
    "c100 = money // 100\n",
    "money %= 100\n",
    "\n",
    "c50 = money // 50\n",
    "money %= 50\n",
    "\n",
    "c10 = money //10\n",
    "money %= 10\n",
    "\n",
    "print(\"\\n 500원짜리 %d개\" % c500)\n",
    "print(\"\\n 100원짜리 %d개\" % c100)\n",
    "print(\"\\n 50원짜리 %d개\" % c50)\n",
    "print(\"\\n 10원짜리 %d개\" % c10)\n",
    "print(\"\\n 거스름돈 %d원\" % money)"
   ]
  },
  {
   "cell_type": "code",
   "execution_count": 55,
   "id": "a0222f1a-014f-47fc-8f33-ddc30e8c052a",
   "metadata": {},
   "outputs": [
    {
     "name": "stdout",
     "output_type": "stream",
     "text": [
      "False\n"
     ]
    },
    {
     "data": {
      "text/plain": [
       "bool"
      ]
     },
     "execution_count": 55,
     "metadata": {},
     "output_type": "execute_result"
    }
   ],
   "source": [
    "a = 100\n",
    "b = 200\n",
    "bool = (a == b)\n",
    "print(bool)\n",
    "type(bool)"
   ]
  },
  {
   "cell_type": "code",
   "execution_count": null,
   "id": "70588db6-6db1-4c48-a928-8055c2c15451",
   "metadata": {},
   "outputs": [],
   "source": [
    "import turtle\n",
    "import random\n",
    "\n",
    "## 전역 변수 선언 부분 ##\n",
    "swidth, sheight, pSize, exitCount = 300, 300, 3, 0"
   ]
  },
  {
   "cell_type": "code",
   "execution_count": 13,
   "id": "38adb91e-3e0c-499f-a5b4-7aff11e3cdd6",
   "metadata": {
    "tags": []
   },
   "outputs": [
    {
     "ename": "SyntaxError",
     "evalue": "invalid syntax (2337009144.py, line 1)",
     "output_type": "error",
     "traceback": [
      "\u001b[1;36m  Cell \u001b[1;32mIn[13], line 1\u001b[1;36m\u001b[0m\n\u001b[1;33m    과제 202210569 이재현 인공지능융합학과\u001b[0m\n\u001b[1;37m       ^\u001b[0m\n\u001b[1;31mSyntaxError\u001b[0m\u001b[1;31m:\u001b[0m invalid syntax\n"
     ]
    }
   ],
   "source": [
    "과제 202210569 이재현 인공지능융합학과\n",
    "\n",
    "# 연습문제 3장\n",
    "\n",
    "1. 실행하면 오류가 발생하는 것을 모두 고르시오.\n",
    "    ③ print(\"%d\" % (500,600)) : 1개의 정수만 불러오도록 format 됨\n",
    "    ④ print(\"%d %d\" % (700)) : 불러올 정수의 수가 부족함\n",
    "\n",
    "2. print() 함수의 결과를 예측하시오\n",
    "    ① print(\"%d / %d = %d\" % (10, 4, 10/4)) : 10 / 4 = 2 # 정수 부분만 출력됨\n",
    "    ② print(\"%d / %d = %f\" % (10, 4, 10/4)) : 10 / 4 = 2.500000 # 실수가 8개의 공간에 출력됨 \n",
    "    ③ print(\"%d / %d = %5.1f\" % (10, 4, 10/4)) : 10 / 4 =   2.5 # 실수가 5개의 공간에 우측 정렬되어 1자릿 수 까지 출력됨\n",
    "    ④ print(\"%d / %d = %5.0f\" % (10, 4, 10/4)) : 10 / 4 =     2 # 실수가 5개의 공간에 우측 정렬되어 정수 부분만 출력됨\n",
    "    \n",
    "3. print() 함수의 결과를 예측하시오.\n",
    "    ① print(\"%05d\" % 543) : 00543  # 5개의 공간에 우측 정렬되고 앞공간은 0으로 채움\n",
    "    ② print(\"%10s\" % \"파이썬\")  :       파이썬 # 10개의 공간에 우측 정렬됨\n",
    "    ③ print(\"%7.1f\" % 123.45) : 123.5 # 소숫점 1자리까지 표시하여 7개의 공간에 우측 정렬됨\n",
    "\n",
    "4. 이스케이프 문자에 대한 설명 중 틀린 것을 모두 고르시오.\n",
    "    ① \\n은 새로운 줄로 넘기며, Tab을 누른 효과를 준다. #줄바뀜이므로 엔터효과\n",
    "    ④ \\b는 삐 소리를 발생시킨다. # backspace 효과\n",
    "\n",
    "5. 변수에 대한 설명으로 틀린 것을 모두 고르시오.\n",
    "    ③ a = b처럼 같이 변수에 변수를 대입할 수 없다. : 대입가능\n",
    "    ④ type() 함수는 변수에 저장된 값을 출력한다. : 변수의 종류를 출력함\n",
    "\n",
    "6. 코드를 실행하면 오류가 발생한다. 그 이유를 설명하시오.\n",
    "    a = b = 10 = c = d = 20 : c 변수가 10에 대입될 수 없기 때문\n",
    "    \n",
    "7. 각 진수를 10진수로 변환하시오.\n",
    "    ① 2진수 0011 : 2+1 = 3\n",
    "    ② 2진수 01010 : 2**3 + 2 = 10\n",
    "    ③ 16진수 11 : 16+1 = 17\n",
    "    ④ 8진수 17 : 8 + 7 = 15         \n",
    "    \n",
    "8. 오류가 발생하는 것을 모두 고르고, 그 이유를 간단히 설명하시오.\n",
    "    ① int('1002',2) : 2진법은 0,1만 사용 \n",
    "    ② int('1008',8) : 8진법은 0~7만 사용\n",
    "    ③ int('AAFG',16) : 16진법은 0~9, A~F만 사용\n",
    "    \n",
    "9. 코드의 출력값을 예측하시오.\n",
    "    bin(12) : 0b1100 #2진수 변환\n",
    "    hex(12) : 0xc #16진수 변환\n",
    "    oct(12) : 0o14 #8진수 변환\n",
    "    \n",
    "10. (심화문제) 16진수 글자 하나를 입력하면 16진수인지 아닌지를 구분하는 코드를 작성하시오\n",
    "number = input(\"16진수인지 판별하고 싶은 글자 하나를 입력하세요:\")\n",
    "\n",
    "if ('0' <= number <= '9') or ('A' <= number <= 'F') or ('a' <= number <= 'f') :\n",
    "    print(\"10진수 ==> \",int(number,16))\n",
    "else :\n",
    "    print(\"16진수가 아닙니다.\")\n",
    "\n",
    "11. 응용예제1 파이썬에서 제공되는 각 데이터형의 기본 크기를 확인하는 프로그램\n",
    "\n",
    "import sys\n",
    "\n",
    "if __name__ == \"__main__\":\n",
    "    intVar = 0\n",
    "    floatVar = 0.0\n",
    "    boolVar = True\n",
    "    strVar = ''\n",
    "    listVar = []\n",
    "    tupleVar = ()\n",
    "    dictVar = {}\n",
    "    setVar = set()\n",
    "\n",
    "print('int형 기본크기->', sys.getsizeof(intVar))\n",
    "print('float형 기본크기->', sys.getsizeof(floatVar))\n",
    "print('bool형 기본크기->', sys.getsizeof(boolVar))\n",
    "print('str형 기본크기->', sys.getsizeof(strVar))\n",
    "print('list형 기본크기->', sys.getsizeof(strVar))\n",
    "print('tuple형 기본크기->', sys.getsizeof(tupleVar))\n",
    "print('dictionary형 기본크기->', sys.getsizeof(dictVar))\n",
    "print('set형 기본크기->', sys.getsizeof(setVar))\n",
    "\n",
    "\n",
    "---\n",
    "\n",
    "# 연습문제 4장\n",
    "1. 산술 연산자가 아닌 것을 모두 고르시오.\n",
    "    ^ (비트 논리적베타합), ~(비트 부정), & (비트 논리곱), *** ? 연산자 아님\n",
    "    \n",
    "2. 다음 계산식의 결과를 예측하시오.\n",
    "    a, b = 10, 20\n",
    "\n",
    "    ① a + b : 30\n",
    "    ② a - b : -10\n",
    "    ③ a % b : 10\n",
    "    ④ a // b : 0\n",
    "    \n",
    "3. 다음 계산식의 결과를 예측하시오.\n",
    "    a, b, c = 1, 2, 3\n",
    "\n",
    "    ① a + b % c : 3 # modulo 먼저\n",
    "    ② a * b - c : -1\n",
    "    ③ a / b * c : 1.5\n",
    "    \n",
    "4. 문자열을 숫자로 변환한 후 계산하는 식이다. 오류가 발생하는 것을 고르고, 오류가 발생하지 않도록 수정하시오.\n",
    "    s1, s2, s3 = \"111\", \"111.11\", \"99999999999999\"\n",
    "\n",
    "    ② int(s2) + 111.11 : s2는 실수이므로 float(s2) + 111.11 로 변환\n",
    "    \n",
    "5. 대입 연산자의 활용이다. 결과를 예측하시오.\n",
    "    ① a, b = 10, 20; a += b; print(a) : 30\n",
    "    ② a, b = 10, 20; a %= b; print(a) : 10 \n",
    "    ③ a, b = 10, 20; a //= b; print(a) : 0 \n",
    "    \n",
    "6. 논리 연산자가 아닌 것을 모두 고르시오.\n",
    "    ④ nor\n",
    "    ⑤ xor\n",
    "    ⑥ equal\n",
    "\n",
    "7. 다음 비트 연산자의 활용 결과를 16진수로 예측하시오.\n",
    "    0xFF00 & 0x00FF : 0x0000\n",
    "    0xFF00 | 0x00FF : 0xFFFF\n",
    "    0xFF00 ^ 0x00FF : 0xFFFF\n",
    "\n",
    "8. 다음 비트 시프트 연산자의 활용 결과를 예측하시오.\n",
    "    a = 100; a = a << 100; a = a >> 100; print(a) : 100\n",
    "\n",
    "9. 다음과 같이 입력한 금액을 5만원, 1만원, 5000원, 500원, 100원, 50원, 10원 동전으로 교환하는 프로그램을 작성하시오.\n",
    "\n",
    "## 변수 선언 부분 ##\n",
    "money, c50000, c10000, c5000, c1000, c500, c100, c50, c10 = [0]*9\n",
    "\n",
    "## 메인 코드 부분 ##\n",
    "money = int(input(\"교환할 돈은 얼마?:\"))\n",
    "\n",
    "c50000 = money // 50000\n",
    "money %= 50000\n",
    "\n",
    "c10000 = money // 10000\n",
    "money %= 10000\n",
    "\n",
    "c5000 = money // 5000\n",
    "money %= 5000\n",
    "\n",
    "c1000 = money // 1000\n",
    "money %= 1000\n",
    "\n",
    "c500 = money // 500\n",
    "money %= 500\n",
    "\n",
    "c100 = money // 100\n",
    "money %= 100\n",
    "\n",
    "c50 = money // 50\n",
    "money %= 50\n",
    "\n",
    "c10 = money //10\n",
    "money %= 10\n",
    "\n",
    "print(\"\\n 50000원짜리 %d장\" % c50000)\n",
    "print(\"\\n 10000원짜리 %d장\" % c10000)\n",
    "print(\"\\n 5000원짜리 %d장\" % c5000)\n",
    "print(\"\\n 1000원짜리 %d장\" % c1000)\n",
    "print(\"\\n 500원짜리 %d개\" % c500)\n",
    "print(\"\\n 100원짜리 %d개\" % c100)\n",
    "print(\"\\n 50원짜리 %d개\" % c50)\n",
    "print(\"\\n 10원짜리 %d개\" % c10)\n",
    "print(\"\\n 바꾸지못한 돈 %d원\" % money)\n",
    "\n",
    "10. (심화문제) 115쪽의 [응용예제 02]를 활용해 비트 논리곱을 구현하려고, 숫자 2개 입력받아서 각 숫자에 대한 2진수와 비트 논리곱의 결과 2진수를 출력하는 프로그램을 작성하시오. 예로 123과 456을 입력하면 1111011&111001000의 결과 1001000이 다음과 같이 차례로 출력된다.\n",
    "\n",
    "import turtle\n",
    "\n",
    "## 전역 변수 부분 ##\n",
    "num1, num2 = 0, 0\n",
    "swidth, sheight = 1000, 300\n",
    "curX, curY = 0, 0\n",
    "\n",
    "##메인 코드 부분 ##\n",
    "       \n",
    "if __name__ == \"__main__\" :\n",
    "    turtle.title(\"심화문제10\")\n",
    "    turtle.shape('turtle')\n",
    "    turtle.setup(width = swidth + 50, height = sheight + 50)\n",
    "    turtle.screensize(swidth, sheight)\n",
    "    turtle.penup()\n",
    "    turtle.left(90)\n",
    "\n",
    "\n",
    "    num1 = int(input(\"숫자를 입력하세요 : \"))\n",
    "    num2 = int(input(\"숫자를 하나 더 입력하세요 : \"))\n",
    "    num3 = num1 & num2\n",
    "    num = [num1, num2, num3]\n",
    "    length = [len(bin(num1)), len(bin(num2)), len(bin(num3))]\n",
    "    curY = 100\n",
    "    for i in range(3) :\n",
    "        curX = swidth / 2\n",
    "        curY -= 50\n",
    "        for j in range(length[i]-2) :\n",
    "            turtle.goto(curX, curY)\n",
    "            if num[i] & 1 :\n",
    "                turtle.color('red')\n",
    "                turtle.turtlesize(2)\n",
    "            else : \n",
    "                turtle.color('blue')\n",
    "                turtle.turtlesize(1)\n",
    "            turtle.stamp()\n",
    "            curX -= 50\n",
    "            num[i] >>= 1\n",
    "turtle.done ()\n",
    "\n",
    "## 응용예제 1\n",
    "    입력된 연도가 윤년인지 계산하는 프로그램이다.\n",
    "    1 4로 나누어 떨어지고, 100으로 나누어 떨어지지 않으면 윤년이다.\n",
    "    400으로 나누어 떨어지는 해도 윤년에 포함된다.\n",
    "\n",
    "\n",
    "## 전역 변수 부분 ##\n",
    "year = 0\n",
    " \n",
    "## 메인 코드 부분 ##\n",
    "if __name__ == \"__main__\" :\n",
    "    year = int(input(\"연도를 입력하세요: \"))\n",
    "    if ((year % 4 == 0) and (year % 100 != 0)) or (year % 400 == 0) :\n",
    "        print(\"%d년은 윤년입니다.\" % year);\n",
    "else :\n",
    "    print(\"%d년은 윤년이 아닙니다.\" % year);"
   ]
  },
  {
   "cell_type": "code",
   "execution_count": 25,
   "id": "1aa4dbba-818f-4ed9-8cc8-61a51eceba4c",
   "metadata": {},
   "outputs": [
    {
     "name": "stdin",
     "output_type": "stream",
     "text": [
      "연도를 입력하세요:  2020\n"
     ]
    },
    {
     "name": "stdout",
     "output_type": "stream",
     "text": [
      "2020년은 윤년입니다.\n"
     ]
    }
   ],
   "source": [
    "## 전역 변수 부분 ##\n",
    "year = 0\n",
    " \n",
    "## 메인 코드 부분 ##\n",
    "if __name__ == \"__main__\" :\n",
    "    year = int(input(\"연도를 입력하세요: \"))\n",
    "    if ((year % 4 == 0) and (year % 100 != 0)) or (year % 400 == 0) :\n",
    "        print(\"%d년은 윤년입니다.\" % year);\n",
    "else :\n",
    "    print(\"%d년은 윤년이 아닙니다.\" % year);"
   ]
  },
  {
   "cell_type": "code",
   "execution_count": null,
   "id": "b93713bf-d8e9-4fe6-a336-daebb57c638f",
   "metadata": {},
   "outputs": [],
   "source": [
    "# lecture 3 20230322"
   ]
  },
  {
   "cell_type": "code",
   "execution_count": 4,
   "id": "51a27718-f89f-4a46-8f73-a428c53e53af",
   "metadata": {},
   "outputs": [
    {
     "name": "stdin",
     "output_type": "stream",
     "text": [
      "점수를 입력하세요: 65\n"
     ]
    },
    {
     "name": "stdout",
     "output_type": "stream",
     "text": [
      "합격입니다.\n"
     ]
    }
   ],
   "source": [
    "score = int(input(\"점수를 입력하세요:\"))\n",
    "if score >= 60 : \n",
    "    print(\"합격입니다.\")\n",
    "else : \n",
    "    print (\"불합격입니다.\")"
   ]
  },
  {
   "cell_type": "code",
   "execution_count": 13,
   "id": "b57e8915-3530-4448-bec1-0b021198a569",
   "metadata": {},
   "outputs": [
    {
     "name": "stdin",
     "output_type": "stream",
     "text": [
      "insert two number 123,14\n"
     ]
    },
    {
     "name": "stdout",
     "output_type": "stream",
     "text": [
      "123 14\n"
     ]
    }
   ],
   "source": [
    "a_s, b_s = input(\"insert two number\").split(',')\n",
    "a = int(a_s); b = int(b_s)\n",
    "print(a, b)"
   ]
  },
  {
   "cell_type": "code",
   "execution_count": 18,
   "id": "30904101-4145-4af5-b136-3c42c1cb88b1",
   "metadata": {},
   "outputs": [
    {
     "name": "stdin",
     "output_type": "stream",
     "text": [
      "insert two number 123,123\n"
     ]
    },
    {
     "name": "stdout",
     "output_type": "stream",
     "text": [
      "123 123\n"
     ]
    }
   ],
   "source": [
    "a, b = map(int, input(\"insert two number\").split(','))\n",
    "print(a, b)"
   ]
  },
  {
   "cell_type": "code",
   "execution_count": 22,
   "id": "e25f2527-e437-4fe9-abd3-18174d31fa69",
   "metadata": {},
   "outputs": [
    {
     "name": "stdin",
     "output_type": "stream",
     "text": [
      "숫자를 입력하세요: 54\n"
     ]
    },
    {
     "name": "stdout",
     "output_type": "stream",
     "text": [
      "50보다 크고 100보다 작군요.\n"
     ]
    }
   ],
   "source": [
    "a = int(input(\"숫자를 입력하세요:\"))\n",
    "\n",
    "if a > 50 :\n",
    "    if a < 100:\n",
    "        print(\"50보다 크고 100보다 작군요.\")\n",
    "    else:\n",
    "        print(\"와~ 100보다 크군요.\")\n",
    "else : \n",
    "    print(\"에고~ 50보다 작군요.\")"
   ]
  },
  {
   "cell_type": "code",
   "execution_count": 26,
   "id": "889017b2-e9d5-43bf-bcbf-deaa5291b4d9",
   "metadata": {},
   "outputs": [
    {
     "name": "stdin",
     "output_type": "stream",
     "text": [
      "점수를 입력하세요: 99\n"
     ]
    },
    {
     "name": "stdout",
     "output_type": "stream",
     "text": [
      "A\n",
      "학점입니다^^\n"
     ]
    }
   ],
   "source": [
    "score = int(input(\"점수를 입력하세요:\"))\n",
    "\n",
    "if score >= 90 : \n",
    "    print(\"A\")\n",
    "elif score >= 80 : \n",
    "    print(\"B\")\n",
    "elif score >= 70 : \n",
    "    print(\"C\")\n",
    "elif score >= 60 : \n",
    "    print(\"D\")\n",
    "else :\n",
    "    print(\"F\")\n",
    "print(\"학점입니다^^\")"
   ]
  },
  {
   "cell_type": "code",
   "execution_count": 27,
   "id": "551d5aa9-18c3-4e25-a9af-2875da2b0e06",
   "metadata": {},
   "outputs": [
    {
     "ename": "KeyboardInterrupt",
     "evalue": "",
     "output_type": "error",
     "traceback": [
      "\u001b[1;31m---------------------------------------------------------------------------\u001b[0m",
      "\u001b[1;31mKeyboardInterrupt\u001b[0m                         Traceback (most recent call last)",
      "Cell \u001b[1;32mIn[27], line 34\u001b[0m\n\u001b[0;32m     30\u001b[0m         turtle\u001b[38;5;241m.\u001b[39mpencolor(\u001b[38;5;124m'\u001b[39m\u001b[38;5;124mpurple\u001b[39m\u001b[38;5;124m'\u001b[39m)\n\u001b[0;32m     32\u001b[0m     turtle\u001b[38;5;241m.\u001b[39mcircle(radius) \u001b[38;5;66;03m#반지름으로 원그려라\u001b[39;00m\n\u001b[1;32m---> 34\u001b[0m \u001b[43mturtle\u001b[49m\u001b[38;5;241;43m.\u001b[39;49m\u001b[43mdone\u001b[49m\u001b[43m(\u001b[49m\u001b[43m)\u001b[49m\n",
      "File \u001b[1;32m<string>:8\u001b[0m, in \u001b[0;36mmainloop\u001b[1;34m()\u001b[0m\n",
      "File \u001b[1;32mD:\\project\\anaconda\\envs\\iseed\\lib\\turtle.py:812\u001b[0m, in \u001b[0;36mTurtleScreenBase.mainloop\u001b[1;34m(self)\u001b[0m\n\u001b[0;32m    799\u001b[0m \u001b[38;5;28;01mdef\u001b[39;00m \u001b[38;5;21mmainloop\u001b[39m(\u001b[38;5;28mself\u001b[39m):\n\u001b[0;32m    800\u001b[0m     \u001b[38;5;124;03m\"\"\"Starts event loop - calling Tkinter's mainloop function.\u001b[39;00m\n\u001b[0;32m    801\u001b[0m \n\u001b[0;32m    802\u001b[0m \u001b[38;5;124;03m    No argument.\u001b[39;00m\n\u001b[1;32m   (...)\u001b[0m\n\u001b[0;32m    810\u001b[0m \n\u001b[0;32m    811\u001b[0m \u001b[38;5;124;03m    \"\"\"\u001b[39;00m\n\u001b[1;32m--> 812\u001b[0m     \u001b[38;5;28;43mself\u001b[39;49m\u001b[38;5;241;43m.\u001b[39;49m\u001b[43mcv\u001b[49m\u001b[38;5;241;43m.\u001b[39;49m\u001b[43mtk\u001b[49m\u001b[38;5;241;43m.\u001b[39;49m\u001b[43mmainloop\u001b[49m\u001b[43m(\u001b[49m\u001b[43m)\u001b[49m\n",
      "\u001b[1;31mKeyboardInterrupt\u001b[0m: "
     ]
    }
   ],
   "source": [
    "import turtle\n",
    "\n",
    "## 전역 변수 선언 부분 ##\n",
    "swidth, sheight = 500, 500\n",
    "\n",
    "# main code ##\n",
    "turtle.title('무지개색 원그리기')\n",
    "turtle.shape('turtle')\n",
    "turtle.setup(width= swidth+50, height = sheight+50) #윈도우 크기\n",
    "turtle.screensize(swidth, sheight)\n",
    "turtle.penup()\n",
    "turtle.goto(0, -sheight / 2)\n",
    "turtle.pendown() #여기서부터 그림이 그려짐\n",
    "turtle.speed(10)\n",
    "\n",
    "for radius in range(1, 250) :\n",
    "    if radius % 7 == 1 :\n",
    "        turtle.pencolor('red')\n",
    "    elif radius % 7 == 2 :\n",
    "        turtle.pencolor('orange')\n",
    "    elif radius % 7 == 3 :\n",
    "        turtle.pencolor('yellow')\n",
    "    elif radius % 7 == 4 :\n",
    "        turtle.pencolor('green')\n",
    "    elif radius % 7 == 5 :\n",
    "        turtle.pencolor('blue')\n",
    "    elif radius % 7 == 6 :\n",
    "        turtle.pencolor('navyblue')\n",
    "    else :\n",
    "        turtle.pencolor('purple')\n",
    "    \n",
    "    turtle.circle(radius) #반지름으로 원그려라\n",
    "    \n",
    "turtle.done()"
   ]
  },
  {
   "cell_type": "code",
   "execution_count": null,
   "id": "562ab329-1930-4c34-9c9d-ca996c58af22",
   "metadata": {},
   "outputs": [],
   "source": [
    "#home work 132 p\n",
    "\n",
    "a,b,c = map(int, input(\"input three number\"))"
   ]
  },
  {
   "cell_type": "code",
   "execution_count": 28,
   "id": "402c60fb-9451-410f-8bd8-9e9236409d11",
   "metadata": {},
   "outputs": [
    {
     "name": "stdout",
     "output_type": "stream",
     "text": [
      "10\n",
      "20\n",
      "30\n",
      "apple\n",
      "banana\n"
     ]
    }
   ],
   "source": [
    "for i in [10, 20, 30] :\n",
    "    print(i)   \n",
    "for fruit in ['apple','banana'] :\n",
    "    print(fruit)"
   ]
  },
  {
   "cell_type": "code",
   "execution_count": 4,
   "id": "9a559c7d-8889-46c8-b316-8eb4324af46b",
   "metadata": {},
   "outputs": [
    {
     "name": "stdout",
     "output_type": "stream",
     "text": [
      "7\n",
      "21\n",
      "42\n",
      "70\n",
      "105\n",
      "147\n",
      "196\n",
      "252\n",
      "315\n",
      "385\n",
      "462\n",
      "546\n",
      "637\n",
      "735\n",
      "735\n"
     ]
    }
   ],
   "source": [
    "a = 0\n",
    "for i in range(7,101,7) :\n",
    "    a = a + i\n",
    "    print(a)\n",
    "print(a)"
   ]
  },
  {
   "cell_type": "code",
   "execution_count": 6,
   "id": "5550603f-21fa-4d51-a8f9-770aed135900",
   "metadata": {},
   "outputs": [
    {
     "name": "stdout",
     "output_type": "stream",
     "text": [
      "cat*dog\n"
     ]
    }
   ],
   "source": [
    "print(\"cat\",end = \"*\")\n",
    "print(\"dog\")"
   ]
  },
  {
   "cell_type": "code",
   "execution_count": 9,
   "id": "278ee13f-fde8-4b64-9c31-378821aed076",
   "metadata": {},
   "outputs": [
    {
     "name": "stdout",
     "output_type": "stream",
     "text": [
      "HeLLo! WorLd!\n"
     ]
    }
   ],
   "source": [
    "greeting =(\"Hello! World!\")\n",
    "\n",
    "a = \"\"\n",
    "for c in greeting :\n",
    "    if c == \"l\" :\n",
    "        c = \"L\"\n",
    "    else : \n",
    "        c == c\n",
    "    a = a + c\n",
    "print(a)"
   ]
  },
  {
   "cell_type": "code",
   "execution_count": 8,
   "id": "fc58c4d6-b515-497c-8827-4d4b3da4b99f",
   "metadata": {},
   "outputs": [
    {
     "ename": "SyntaxError",
     "evalue": "invalid syntax (4092220723.py, line 11)",
     "output_type": "error",
     "traceback": [
      "\u001b[1;36m  Cell \u001b[1;32mIn[8], line 11\u001b[1;36m\u001b[0m\n\u001b[1;33m    print(j, \"는 소수가 아닙니다.\")s\u001b[0m\n\u001b[1;37m                           ^\u001b[0m\n\u001b[1;31mSyntaxError\u001b[0m\u001b[1;31m:\u001b[0m invalid syntax\n"
     ]
    }
   ],
   "source": [
    "num = 100\n",
    "for j in range(2, num + 1,1) :\n",
    "    a = True # a = 0, integer는 4bit 라서 logical 변수가 더 좋음\n",
    "    for i in range(2,j):\n",
    "        if j % i == 0 :\n",
    "            a = False\n",
    "            break #코드는 똑같지만 시간이 줄어듦, 코드 최적화라고 함\n",
    "        if a :\n",
    "            print(j, \"는 소수입니다.\")\n",
    "        else :\n",
    "            print(j, \"는 소수가 아닙니다.\")"
   ]
  },
  {
   "cell_type": "code",
   "execution_count": null,
   "id": "b9452b87-5ed9-40af-a7a8-329f48d9683b",
   "metadata": {},
   "outputs": [],
   "source": [
    "1. if 문의 기본 형식이다. 빈칸을 제시된 보기로 채우시오.\n",
    "    실행할 문장 1, 실행할 문장 2, 조건식\n",
    "\n",
    "    if 조건식:\n",
    "        실행할 문장 1\n",
    "    else :\n",
    "        실행할 문장 2\n",
    "\n",
    "2. 다음 if 문의 결과를 예측하시오.\n",
    "    a = 100\n",
    "\n",
    "    if a != 100:\n",
    "        print(\"100이 아니군요.\")\n",
    "    else :\n",
    "        print(\"100이군요.\")\n",
    "\n",
    "    100이군요.\n",
    "\n",
    "3. 다음 if 문의 결과를 예측하시오.\n",
    "    a = 123\n",
    "\n",
    "    if a == 100:\n",
    "        print(\"100이군요.\")\n",
    "        print(\"100이 아니군요.\")\n",
    "\n",
    "    아무것도 나오지 않는다.\n",
    "\n",
    "4. 입력한 숫자가 3의 배수인지를 판단하는 프로그램이다. 빈칸을 채우시오.\n",
    "    a = int(input(\"정수를 입력하세요:\"))\n",
    "\n",
    "    if a%3 == 0:\n",
    "        print(\"3의 배수를 입력했군요.\")\n",
    "    else :\n",
    "        print(\"3의 배수가 아니군요.\")\n",
    "\n",
    "5. 다음 if 문의 결과를 예측하시오.\n",
    "    a = 123\n",
    "\n",
    "    if a > 100:\n",
    "        if a > 200:\n",
    "            print(\"완전히 큰 수 입니다.\")\n",
    "        else :\n",
    "            print(\"적당한 수 입니다.\")\n",
    "    else :\n",
    "        print(\"완전히 작은 수 입니다.\")\n",
    "        print(\"프로그램 끝입니다.\")\n",
    "\n",
    "    적당한 수입니다.\n",
    "\n",
    "6. 다음 중첩 if 문을 elif를 사용하는 코드로 변경하시오.\n",
    "    score = 55\n",
    "\n",
    "    if score >= 60:\n",
    "        print(\"합격입니다.\")\n",
    "    else :\n",
    "        if score >= 40:\n",
    "            print(\"불합격이지만 과락은 아닙니다.\")\n",
    "        else :\n",
    "            print(\"불합격이면서 과락입니다.\")\n",
    "\n",
    "score = 55\n",
    "\n",
    "if score >= 60:\n",
    "    print(\"합격입니다.\")\n",
    "elif score >= 40:\n",
    "\tprint(\"불합격이지만 과락은 아닙니다.\")\n",
    "else :\n",
    "    print(\"불합격이면서 과락입니다.\")\n",
    " \n",
    "\n",
    "7. 두 사람이 주사위를 던져 더 큰 수가 나오면 이기는 게임이다. A가 이기거나 B가 이기거나 비기는 결과가 나와야 한다. 코드를 작성하시오.\n",
    "\n",
    "import random\n",
    "dice1, dice2 = 0, 0\n",
    "\n",
    "dice1 = random.randrange(0,7)\n",
    "print(\"A의 주사위 숫자는 %d입니다.\" % dice1)\n",
    "dice2 = random.randrange(0,7)\n",
    "print(\"B의 주사위 숫자는 %d입니다.\" % dice2)\n",
    "\n",
    "if dice1 == dice2:\n",
    "\tprint(\"비겼습니다.\")\n",
    "elif dice1 > dice2:\n",
    "\tprint(\"A가 이겼습니다.\")\n",
    "else :\n",
    "\tprint(\"B가 이겼습니다.\")\n",
    "\n",
    "7번 코드 실행 결과\n",
    " \n",
    "\n",
    "8. (심화문제) 139쪽의 [응용예제 02]를 수정해서 거북이 세 마리가 화면을 돌아다니다 서로 만나면 만난 위치에 도장을 찍고 계속 움직이는 프로그램을 작성하시오. 프로그램은 무한 반복된다. 거북이가 화면 밖으로 나가면 다시 각자의 처음 위치[거북이 1은 (-100,-100), 거북이 2는 (0,0), 거북이 3은 (100,100)]로 이동한다. \n",
    "\n",
    "import turtle\n",
    "import math\n",
    "import random\n",
    "\n",
    "t1, t2, t3 = [None] * 3\n",
    "t1X, t1Y, t2X, t2Y, t3X, t3Y = [0] * 6\n",
    "swidth, sheight, exitcount = 300, 300, 0\n",
    "\n",
    "if __name__ == \"__main__\" :\n",
    "    turtle.title('거북이들 스탬프 찍기')\n",
    "    turtle.setup(width = swidth + 50, height = sheight + 50)\n",
    "    turtle.screensize(swidth, sheight)\n",
    "\t\n",
    "    t1 = turtle.Turtle('turtle'); t1.color('red'); t1.penup()\n",
    "    t2 = turtle.Turtle('turtle'); t2.color('green'); t2.penup()\n",
    "    t3 = turtle.Turtle('turtle'); t3.color('blue'); t3.penup()\n",
    "\t\n",
    "    t1.goto(-100, -100); t2.goto(0, 0); t3.goto(100, 100)\n",
    "    t1.speed(0); t2.speed(0); t3.speed(0)\n",
    "\n",
    "    while True :\n",
    "        angle = random.randrange(0, 360)\n",
    "        dist = random.randrange(1, 50)\n",
    "        t1.left(angle); t1.forward(dist)\n",
    "        angle = random.randrange(0, 360)\n",
    "        dist = random.randrange(1, 50)\n",
    "        t2.left(angle); t2.forward(dist)\n",
    "        angle = random.randrange(0, 360)\n",
    "        dist = random.randrange(1, 50)\n",
    "        t3.left(angle); t3.forward(dist)\n",
    "\n",
    "        t1X = t1.xcor(); t1Y = t1.ycor()\n",
    "        t2X = t2.xcor(); t2Y = t2.ycor()\n",
    "        t3X = t3.xcor(); t3Y = t3.ycor()\n",
    "        \n",
    "        if (-swidth / 2 <= t1X and t1X <= swidth / 2) and (-sheight / 2 <= t1Y and t1Y <= sheight / 2) and \\\n",
    "            (-swidth / 2 <= t2X and t2X <= swidth / 2) and (-sheight / 2 <= t2Y and t2Y <= sheight / 2) and \\\n",
    "            (-swidth / 2 <= t3X and t3X <= swidth / 2) and (-sheight / 2 <= t3Y and t3Y <= sheight / 2) :\n",
    "            pass\n",
    "        \n",
    "        else :\n",
    "            t1.penup(); t1.goto(-100, -100)\n",
    "            t2.penup(); t2.goto(0, 0)\n",
    "            t3.penup(); t3.goto(100, 100)\n",
    "        \n",
    "        if math.sqrt(((t1X - t2X) * (t1X - t2X)) + ((t1Y - t2Y) * (t1Y - t2Y))) <= 20 or \\\n",
    "           math.sqrt(((t1X - t3X) * (t1X - t3X)) + ((t1Y - t3Y) * (t1Y - t3Y))) <= 20 or \\\n",
    "           math.sqrt(((t2X - t3X) * (t2X - t3X)) + ((t2Y - t3Y) * (t2Y - t3Y))) <= 20 :\n",
    "            t1.stamp(); t2.stamp(); t3.stamp()\n",
    "        \n",
    "turtle.done()\n"
   ]
  },
  {
   "cell_type": "code",
   "execution_count": 45,
   "id": "d58759c8-87e6-4b69-945f-1f4d27a7311e",
   "metadata": {},
   "outputs": [
    {
     "name": "stdin",
     "output_type": "stream",
     "text": [
      "*** 시작 숫자를 입력하세요(2이상) :  2\n",
      "*** 끝 숫자를 입력하세요 :   11\n"
     ]
    },
    {
     "name": "stdout",
     "output_type": "stream",
     "text": [
      "3\n",
      "5\n",
      "7\n",
      "9\n",
      "11\n",
      "2 부터 11 까지 소수의 합은 35 입니다.\n"
     ]
    }
   ],
   "source": [
    "A, B, sum = 0, 0, 0\n",
    "A = int(input(\"*** 시작 숫자를 입력하세요(2이상) : \"))\n",
    "B = int(input(\"*** 끝 숫자를 입력하세요 :  \"))\n",
    "\n",
    "for i in range (A, B+1, 1) :\n",
    "    result = True\n",
    "    for j in range(2, i) :\n",
    "        if i % j == 0 :\n",
    "            result = False\n",
    "            break\n",
    "        if result :\n",
    "            print(i)\n",
    "            sum = sum + i\n",
    "            break\n",
    "\n",
    "\n",
    "print(A,\"부터\", B, \"까지 소수의 합은\", sum, \"입니다.\")"
   ]
  },
  {
   "cell_type": "code",
   "execution_count": 6,
   "id": "f1e173b5-200f-4005-b8ac-ae244d77ee5f",
   "metadata": {},
   "outputs": [
    {
     "ename": "Terminator",
     "evalue": "",
     "output_type": "error",
     "traceback": [
      "\u001b[1;31m---------------------------------------------------------------------------\u001b[0m",
      "\u001b[1;31mTerminator\u001b[0m                                Traceback (most recent call last)",
      "Cell \u001b[1;32mIn[6], line 30\u001b[0m\n\u001b[0;32m     28\u001b[0m angle \u001b[38;5;241m=\u001b[39m random\u001b[38;5;241m.\u001b[39mrandrange(\u001b[38;5;241m0\u001b[39m, \u001b[38;5;241m360\u001b[39m)\n\u001b[0;32m     29\u001b[0m dist \u001b[38;5;241m=\u001b[39m random\u001b[38;5;241m.\u001b[39mrandrange(\u001b[38;5;241m1\u001b[39m, \u001b[38;5;241m50\u001b[39m)\n\u001b[1;32m---> 30\u001b[0m t3\u001b[38;5;241m.\u001b[39mleft(angle); t3\u001b[38;5;241m.\u001b[39mforward(dist)\n\u001b[0;32m     32\u001b[0m t1X \u001b[38;5;241m=\u001b[39m t1\u001b[38;5;241m.\u001b[39mxcor(); t1Y \u001b[38;5;241m=\u001b[39m t1\u001b[38;5;241m.\u001b[39mycor()\n\u001b[0;32m     33\u001b[0m t2X \u001b[38;5;241m=\u001b[39m t2\u001b[38;5;241m.\u001b[39mxcor(); t2Y \u001b[38;5;241m=\u001b[39m t2\u001b[38;5;241m.\u001b[39mycor()\n",
      "File \u001b[1;32mD:\\project\\anaconda\\envs\\iseed\\lib\\turtle.py:1700\u001b[0m, in \u001b[0;36mTNavigator.left\u001b[1;34m(self, angle)\u001b[0m\n\u001b[0;32m   1681\u001b[0m \u001b[38;5;28;01mdef\u001b[39;00m \u001b[38;5;21mleft\u001b[39m(\u001b[38;5;28mself\u001b[39m, angle):\n\u001b[0;32m   1682\u001b[0m     \u001b[38;5;124;03m\"\"\"Turn turtle left by angle units.\u001b[39;00m\n\u001b[0;32m   1683\u001b[0m \n\u001b[0;32m   1684\u001b[0m \u001b[38;5;124;03m    Aliases: left | lt\u001b[39;00m\n\u001b[1;32m   (...)\u001b[0m\n\u001b[0;32m   1698\u001b[0m \u001b[38;5;124;03m    67.0\u001b[39;00m\n\u001b[0;32m   1699\u001b[0m \u001b[38;5;124;03m    \"\"\"\u001b[39;00m\n\u001b[1;32m-> 1700\u001b[0m     \u001b[38;5;28;43mself\u001b[39;49m\u001b[38;5;241;43m.\u001b[39;49m\u001b[43m_rotate\u001b[49m\u001b[43m(\u001b[49m\u001b[43mangle\u001b[49m\u001b[43m)\u001b[49m\n",
      "File \u001b[1;32mD:\\project\\anaconda\\envs\\iseed\\lib\\turtle.py:3280\u001b[0m, in \u001b[0;36mRawTurtle._rotate\u001b[1;34m(self, angle)\u001b[0m\n\u001b[0;32m   3278\u001b[0m         \u001b[38;5;28mself\u001b[39m\u001b[38;5;241m.\u001b[39m_update()\n\u001b[0;32m   3279\u001b[0m \u001b[38;5;28mself\u001b[39m\u001b[38;5;241m.\u001b[39m_orient \u001b[38;5;241m=\u001b[39m neworient\n\u001b[1;32m-> 3280\u001b[0m \u001b[38;5;28;43mself\u001b[39;49m\u001b[38;5;241;43m.\u001b[39;49m\u001b[43m_update\u001b[49m\u001b[43m(\u001b[49m\u001b[43m)\u001b[49m\n",
      "File \u001b[1;32mD:\\project\\anaconda\\envs\\iseed\\lib\\turtle.py:2661\u001b[0m, in \u001b[0;36mRawTurtle._update\u001b[1;34m(self)\u001b[0m\n\u001b[0;32m   2659\u001b[0m     \u001b[38;5;28;01mreturn\u001b[39;00m\n\u001b[0;32m   2660\u001b[0m \u001b[38;5;28;01melif\u001b[39;00m screen\u001b[38;5;241m.\u001b[39m_tracing \u001b[38;5;241m==\u001b[39m \u001b[38;5;241m1\u001b[39m:\n\u001b[1;32m-> 2661\u001b[0m     \u001b[38;5;28;43mself\u001b[39;49m\u001b[38;5;241;43m.\u001b[39;49m\u001b[43m_update_data\u001b[49m\u001b[43m(\u001b[49m\u001b[43m)\u001b[49m\n\u001b[0;32m   2662\u001b[0m     \u001b[38;5;28mself\u001b[39m\u001b[38;5;241m.\u001b[39m_drawturtle()\n\u001b[0;32m   2663\u001b[0m     screen\u001b[38;5;241m.\u001b[39m_update()                  \u001b[38;5;66;03m# TurtleScreenBase\u001b[39;00m\n",
      "File \u001b[1;32mD:\\project\\anaconda\\envs\\iseed\\lib\\turtle.py:2647\u001b[0m, in \u001b[0;36mRawTurtle._update_data\u001b[1;34m(self)\u001b[0m\n\u001b[0;32m   2646\u001b[0m \u001b[38;5;28;01mdef\u001b[39;00m \u001b[38;5;21m_update_data\u001b[39m(\u001b[38;5;28mself\u001b[39m):\n\u001b[1;32m-> 2647\u001b[0m     \u001b[38;5;28;43mself\u001b[39;49m\u001b[38;5;241;43m.\u001b[39;49m\u001b[43mscreen\u001b[49m\u001b[38;5;241;43m.\u001b[39;49m\u001b[43m_incrementudc\u001b[49m\u001b[43m(\u001b[49m\u001b[43m)\u001b[49m\n\u001b[0;32m   2648\u001b[0m     \u001b[38;5;28;01mif\u001b[39;00m \u001b[38;5;28mself\u001b[39m\u001b[38;5;241m.\u001b[39mscreen\u001b[38;5;241m.\u001b[39m_updatecounter \u001b[38;5;241m!=\u001b[39m \u001b[38;5;241m0\u001b[39m:\n\u001b[0;32m   2649\u001b[0m         \u001b[38;5;28;01mreturn\u001b[39;00m\n",
      "File \u001b[1;32mD:\\project\\anaconda\\envs\\iseed\\lib\\turtle.py:1293\u001b[0m, in \u001b[0;36mTurtleScreen._incrementudc\u001b[1;34m(self)\u001b[0m\n\u001b[0;32m   1291\u001b[0m \u001b[38;5;28;01mif\u001b[39;00m \u001b[38;5;129;01mnot\u001b[39;00m TurtleScreen\u001b[38;5;241m.\u001b[39m_RUNNING:\n\u001b[0;32m   1292\u001b[0m     TurtleScreen\u001b[38;5;241m.\u001b[39m_RUNNING \u001b[38;5;241m=\u001b[39m \u001b[38;5;28;01mTrue\u001b[39;00m\n\u001b[1;32m-> 1293\u001b[0m     \u001b[38;5;28;01mraise\u001b[39;00m Terminator\n\u001b[0;32m   1294\u001b[0m \u001b[38;5;28;01mif\u001b[39;00m \u001b[38;5;28mself\u001b[39m\u001b[38;5;241m.\u001b[39m_tracing \u001b[38;5;241m>\u001b[39m \u001b[38;5;241m0\u001b[39m:\n\u001b[0;32m   1295\u001b[0m     \u001b[38;5;28mself\u001b[39m\u001b[38;5;241m.\u001b[39m_updatecounter \u001b[38;5;241m+\u001b[39m\u001b[38;5;241m=\u001b[39m \u001b[38;5;241m1\u001b[39m\n",
      "\u001b[1;31mTerminator\u001b[0m: "
     ]
    }
   ],
   "source": [
    "import turtle\n",
    "import math\n",
    "import random\n",
    "\n",
    "t1, t2, t3 = [None] * 3\n",
    "t1X, t1Y, t2X, t2Y, t3X, t3Y = [0] * 6\n",
    "swidth, sheight, exitcount = 300, 300, 0\n",
    "\n",
    "if __name__ == \"__main__\" :\n",
    "    turtle.title('거북이들 스탬프 찍기')\n",
    "    turtle.setup(width = swidth + 50, height = sheight + 50)\n",
    "    turtle.screensize(swidth, sheight)\n",
    "\t\n",
    "    t1 = turtle.Turtle('turtle'); t1.color('red'); t1.penup()\n",
    "    t2 = turtle.Turtle('turtle'); t2.color('green'); t2.penup()\n",
    "    t3 = turtle.Turtle('turtle'); t3.color('blue'); t3.penup()\n",
    "\t\n",
    "    t1.goto(-100, -100); t2.goto(0, 0); t3.goto(100, 100)\n",
    "    t1.speed(0); t2.speed(0); t3.speed(0)\n",
    "\n",
    "    while True :\n",
    "        angle = random.randrange(0, 360)\n",
    "        dist = random.randrange(1, 50)\n",
    "        t1.left(angle); t1.forward(dist)\n",
    "        angle = random.randrange(0, 360)\n",
    "        dist = random.randrange(1, 50)\n",
    "        t2.left(angle); t2.forward(dist)\n",
    "        angle = random.randrange(0, 360)\n",
    "        dist = random.randrange(1, 50)\n",
    "        t3.left(angle); t3.forward(dist)\n",
    "\n",
    "        t1X = t1.xcor(); t1Y = t1.ycor()\n",
    "        t2X = t2.xcor(); t2Y = t2.ycor()\n",
    "        t3X = t3.xcor(); t3Y = t3.ycor()\n",
    "        \n",
    "        if (-swidth / 2 <= t1X and t1X <= swidth / 2) and (-sheight / 2 <= t1Y and t1Y <= sheight / 2) and \\\n",
    "            (-swidth / 2 <= t2X and t2X <= swidth / 2) and (-sheight / 2 <= t2Y and t2Y <= sheight / 2) and \\\n",
    "            (-swidth / 2 <= t3X and t3X <= swidth / 2) and (-sheight / 2 <= t3Y and t3Y <= sheight / 2) :\n",
    "            pass\n",
    "        \n",
    "        else :\n",
    "            t1.penup(); t1.goto(-100, -100)\n",
    "            t2.penup(); t2.goto(0, 0)\n",
    "            t3.penup(); t3.goto(100, 100)\n",
    "        \n",
    "        if math.sqrt(((t1X - t2X) * (t1X - t2X)) + ((t1Y - t2Y) * (t1Y - t2Y))) <= 20 or \\\n",
    "           math.sqrt(((t1X - t3X) * (t1X - t3X)) + ((t1Y - t3Y) * (t1Y - t3Y))) <= 20 or \\\n",
    "           math.sqrt(((t2X - t3X) * (t2X - t3X)) + ((t2Y - t3Y) * (t2Y - t3Y))) <= 20 :\n",
    "            t1.stamp(); t2.stamp(); t3.stamp()\n",
    "        \n",
    "turtle.done()"
   ]
  },
  {
   "cell_type": "code",
   "execution_count": 9,
   "id": "6adad87f-b817-4b6d-b840-0b29b062661c",
   "metadata": {},
   "outputs": [
    {
     "name": "stdin",
     "output_type": "stream",
     "text": [
      "숫자를 여러 개 입력하세요 :  1\n"
     ]
    },
    {
     "name": "stdout",
     "output_type": "stream",
     "text": [
      "\n",
      "★★\n"
     ]
    }
   ],
   "source": [
    "i, k, starNum = 0, 0, 0\n",
    "numStr, ch, starStr = \"\", \"\", \"\"\n",
    "\n",
    "if __name__ == \"__main__\" :\n",
    "     numStr = input(\"숫자를 여러 개 입력하세요 : \")\n",
    "     print(\"\")\n",
    "     i = 0\n",
    "     ch = numStr[i]\n",
    "     while True :\n",
    "          starNum = int(ch)\n",
    "\n",
    "          starStr = \"\"\n",
    "          for k in range (0, starNum) :\n",
    "               starStr += \"\\u2605\"\n",
    "               k += 1\n",
    "\t\t\t\n",
    "          print(starStr * 2)\n",
    "\n",
    "          i += 1\n",
    "          if (i > len(numStr) - 1) :\n",
    "               break\n",
    "\n",
    "          ch = numStr[i]"
   ]
  },
  {
   "cell_type": "code",
   "execution_count": null,
   "id": "c4ee7ac1-4f8c-4e88-8425-72fc2c1a97d4",
   "metadata": {},
   "outputs": [],
   "source": [
    "#9장 함수와 문자열"
   ]
  },
  {
   "cell_type": "code",
   "execution_count": 4,
   "id": "ee5e57c5-d006-4d5d-8020-5f6e05ee4289",
   "metadata": {},
   "outputs": [
    {
     "name": "stdin",
     "output_type": "stream",
     "text": [
      "어떤 커피 드릴까요?(1:보통, 2:설탕. 3:블랙) 1\n"
     ]
    },
    {
     "name": "stdout",
     "output_type": "stream",
     "text": [
      "\n",
      "#1. (자동으로) 뜨거운 물을 준비한다.\n",
      "#2. (자동으로) 종이컵을 준비한다.\n",
      "#3. (자동으로) 보통 커피를 탄다.\n",
      "#4. (자동으로) 물을 붓는다.\n",
      "#5. (자동으로) 스푼으로 젓는다.\n",
      "\n",
      "손님~ 커피 여기 있습니다.\n"
     ]
    }
   ],
   "source": [
    "## 전역 변수 선언 부분 ##\n",
    "coffee = 0\n",
    "\n",
    "## 함수 선언 부분 ##\n",
    "def coffee_machine(button) :\n",
    "    print()\n",
    "    print(\"#1. (자동으로) 뜨거운 물을 준비한다.\")\n",
    "    print(\"#2. (자동으로) 종이컵을 준비한다.\")\n",
    "\n",
    "    if button == 1:\n",
    "        print(\"#3. (자동으로) 보통 커피를 탄다.\")\n",
    "    elif button == 2 :\n",
    "        print(\"#3. (자동으로) 설탕커피를 탄다.\")\n",
    "    elif button == 3 :\n",
    "        print(\"#3. (자동으로) 블랙커피를 탄다.\")\n",
    "    else :\n",
    "        print(\"#3. (자동으로) 아무거나 탄다. \\n.\")\n",
    "\n",
    "    print(\"#4. (자동으로) 물을 붓는다.\");\n",
    "    print(\"#5. (자동으로) 스푼으로 젓는다.\");\n",
    "    print()\n",
    "\n",
    "## 메인 코드 부분\n",
    "coffee = int(input(\"어떤 커피 드릴까요?(1:보통, 2:설탕. 3:블랙)\"))\n",
    "coffee_machine(coffee)\n",
    "print(\"손님~ 커피 여기 있습니다.\");"
   ]
  },
  {
   "cell_type": "code",
   "execution_count": 5,
   "id": "f8727248-7eeb-491a-b81d-9d3104e3ba44",
   "metadata": {},
   "outputs": [
    {
     "name": "stdout",
     "output_type": "stream",
     "text": [
      "100과 200의 plus() 함수 결과는 300\n"
     ]
    }
   ],
   "source": [
    "## 함수 선언 부분 ##\n",
    "def plus(v1, v2) :\n",
    "    result = 0\n",
    "    result = v1 + v2\n",
    "    return result\n",
    "\n",
    "## 전역 변수 선언 부분 ##\n",
    "hap = 0\n",
    "\n",
    "## 메인 코드 부분 ##\n",
    "hap = plus(100, 200)\n",
    "print(\"100과 200의 plus() 함수 결과는 %d\" % hap)"
   ]
  },
  {
   "cell_type": "code",
   "execution_count": 13,
   "id": "d39bbc60-dc85-401e-9a53-07ec6f9a61c3",
   "metadata": {},
   "outputs": [
    {
     "name": "stdout",
     "output_type": "stream",
     "text": [
      "func1()에서 a값 10\n",
      "func2()에서 a값 10\n"
     ]
    }
   ],
   "source": [
    "def func1() :\n",
    "    global a\n",
    "    a = 10 # local variable\n",
    "    print(\"func1()에서 a값 %d\" % a)\n",
    "    \n",
    "def func2() :\n",
    "    print(\"func2()에서 a값 %d\" % a)\n",
    "    \n",
    "## global variable ##\n",
    "a = 20 # global variable\n",
    "\n",
    "## main code ##\n",
    "func1()\n",
    "func2()"
   ]
  },
  {
   "cell_type": "code",
   "execution_count": 14,
   "id": "e32e288e-8a0a-4253-9d4f-4065a9ba888b",
   "metadata": {},
   "outputs": [
    {
     "name": "stdout",
     "output_type": "stream",
     "text": [
      "multi()에서 돌려준 값 ==> 300, -100\n"
     ]
    }
   ],
   "source": [
    "## 함수 선언 부분 ##\n",
    "def multi(v1, v2) :\n",
    "    retList = [] # return list\n",
    "    res1 = v1 + v2\n",
    "    res2 = v1 - v2\n",
    "    retList.append(res1)\n",
    "    retList.append(res2)\n",
    "    return retList\n",
    "\n",
    "## 전역 변수 선언 부분 ##\n",
    "myList = []\n",
    "hap, sub = 0, 0\n",
    "\n",
    "## 메인 코드 부분 ##\n",
    "myList = multi(100, 200)\n",
    "hap = myList[0]\n",
    "sub = myList[1]\n",
    "print(\"multi()에서 돌려준 값 ==> %d, %d\" % (hap, sub))"
   ]
  },
  {
   "cell_type": "code",
   "execution_count": 15,
   "id": "65cf9940-5f26-4f49-981a-315fd9746ae3",
   "metadata": {},
   "outputs": [
    {
     "name": "stdout",
     "output_type": "stream",
     "text": [
      "multi()에서 돌려준 값 ==> 300, -100\n"
     ]
    }
   ],
   "source": [
    "def multi(v1, v2) :\n",
    "    return v1 + v2, v1 - v2\n",
    "\n",
    "## 전역 변수 선언 부분 ##\n",
    "myList = []\n",
    "hap, sub = 0, 0\n",
    "\n",
    "## 메인 코드 부분 ##\n",
    "myList = multi(100, 200)\n",
    "hap = myList[0]\n",
    "sub = myList[1]\n",
    "print(\"multi()에서 돌려준 값 ==> %d, %d\" % (hap, sub))"
   ]
  },
  {
   "cell_type": "code",
   "execution_count": 17,
   "id": "373cb346-73f0-49bc-a3a7-898f63d74b0b",
   "metadata": {},
   "outputs": [
    {
     "name": "stdout",
     "output_type": "stream",
     "text": [
      "매개변수가 2개인 함수를 호출한 결과 ==> 30\n",
      "매개변수가 3개인 함수를 호출한 결과 ==> 60\n"
     ]
    }
   ],
   "source": [
    "## function ##\n",
    "def para_func( v1, v2, v3 = 0 ) :\n",
    "    result = 0\n",
    "    result = v1 + v2 + v3\n",
    "    return result\n",
    "\n",
    "## global var ##\n",
    "hap = 0\n",
    "\n",
    "## main code ##\n",
    "hap = para_func(10, 20)\n",
    "print(\"매개변수가 2개인 함수를 호출한 결과 ==> %d\" % hap)\n",
    "hap = para_func(10, 20, 30)\n",
    "print(\"매개변수가 3개인 함수를 호출한 결과 ==> %d\" % hap)"
   ]
  },
  {
   "cell_type": "code",
   "execution_count": 19,
   "id": "4f7d948e-7963-45da-918b-e251f4249adc",
   "metadata": {},
   "outputs": [
    {
     "name": "stdout",
     "output_type": "stream",
     "text": [
      "매개변수가 2개인 함수를 호출한 결과 ==> 30\n",
      "매개변수가 3개인 함수를 호출한 결과 ==> 60\n"
     ]
    }
   ],
   "source": [
    "## fucntion ##\n",
    "def para_func (*para) :\n",
    "    result = 0\n",
    "    for num in para :\n",
    "        result = result + num\n",
    "        \n",
    "    return result\n",
    "\n",
    "## global var ##\n",
    "hap = 0\n",
    "\n",
    "## main code ##\n",
    "hap = para_func(10, 20)\n",
    "print(\"매개변수가 2개인 함수를 호출한 결과 ==> %d\" % hap)\n",
    "hap = para_func(10, 20, 30)\n",
    "print(\"매개변수가 3개인 함수를 호출한 결과 ==> %d\" % hap)"
   ]
  },
  {
   "cell_type": "code",
   "execution_count": 23,
   "id": "6af5e09d-ad03-4f0e-95de-ead4a1182dca",
   "metadata": {},
   "outputs": [
    {
     "name": "stdout",
     "output_type": "stream",
     "text": [
      "**로또 추첨을 시작합니다. ** \n",
      "\n",
      "27\n",
      "28\n",
      "14\n",
      "13\n",
      "14\n",
      "44\n",
      "14\n",
      "23\n",
      "추첨된 로또 번호 ==> 13 14 23 27 28 44 "
     ]
    }
   ],
   "source": [
    "import random\n",
    "\n",
    "## function ##\n",
    "def getNumber() :\n",
    "    return random.randrange(1, 46)\n",
    "\n",
    "## global var ##\n",
    "lotto = []\n",
    "num = 0\n",
    "\n",
    "## main code ##\n",
    "print(\"**로또 추첨을 시작합니다. ** \\n\");\n",
    "\n",
    "while True :\n",
    "    num = getNumber()\n",
    "    print(num)\n",
    "    \n",
    "    if lotto.count(num) == 0 :  #num이 이미 lotto에 있는지 확인..중복을 제거하는 것..\n",
    "        lotto.append(num)\n",
    "        \n",
    "    if len(lotto) >= 6 :\n",
    "        break\n",
    "        \n",
    "print(\"추첨된 로또 번호 ==> \", end = '')\n",
    "lotto.sort()\n",
    "for i in range (0, 6) :\n",
    "    print(\"%d \" % lotto[i], end ='')"
   ]
  },
  {
   "cell_type": "code",
   "execution_count": 8,
   "id": "f0a5d3d0-54a8-4383-8aa9-8ea3d5056c84",
   "metadata": {},
   "outputs": [
    {
     "name": "stdout",
     "output_type": "stream",
     "text": [
      "1\n"
     ]
    }
   ],
   "source": [
    "## function ##\n",
    "\n",
    "def fact(num) :\n",
    "    if num > 1 :\n",
    "        return num * fact(num - 1)\n",
    "    else :\n",
    "        return 1\n",
    "    \n",
    "print(fact(1))"
   ]
  },
  {
   "cell_type": "code",
   "execution_count": 18,
   "id": "8e1d7efa-1df9-4db2-9826-bb353ed9b9b2",
   "metadata": {},
   "outputs": [
    {
     "name": "stdout",
     "output_type": "stream",
     "text": [
      "1\n",
      "1\n",
      "2\n",
      "3\n",
      "5\n",
      "8\n",
      "13\n",
      "21\n"
     ]
    }
   ],
   "source": [
    "def pibo(num) :\n",
    "    if num > 1 :\n",
    "        return pibo(num - 1) + pibo(num - 2)\n",
    "    else :\n",
    "        return 1\n",
    "for num in range (8) :\n",
    "    print(pibo(num))"
   ]
  }
 ],
 "metadata": {
  "kernelspec": {
   "display_name": "iseed",
   "language": "python",
   "name": "iseed"
  },
  "language_info": {
   "codemirror_mode": {
    "name": "ipython",
    "version": 3
   },
   "file_extension": ".py",
   "mimetype": "text/x-python",
   "name": "python",
   "nbconvert_exporter": "python",
   "pygments_lexer": "ipython3",
   "version": "3.9.16"
  }
 },
 "nbformat": 4,
 "nbformat_minor": 5
}
